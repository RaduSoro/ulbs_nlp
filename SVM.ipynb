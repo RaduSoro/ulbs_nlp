{
 "cells": [
  {
   "cell_type": "code",
   "execution_count": 1,
   "outputs": [],
   "source": [
    "import pandas as pd\n",
    "import util"
   ],
   "metadata": {
    "collapsed": false,
    "pycharm": {
     "name": "#%%\n",
     "is_executing": false
    }
   }
  },
  {
   "cell_type": "code",
   "execution_count": null,
   "outputs": [],
   "source": [
    "files = util.get_small_files()\n",
    "\n",
    "df = pd.DataFrame(columns=[\"doc_text\",\"doc_topic\"])\n",
    "i = 0\n",
    "for path in files:\n",
    "    name = path.split(\"\\\\\")[1][:-4]\n",
    "    doc_text = util.extract_title(path) +\"\\n\"+ util.extract_body(path)\n",
    "    doc_text = doc_text.replace(\"\\n\",\" \")\n",
    "    topics = util.extract_topics(path)\n",
    "    df.loc[name] = [doc_text,topics]\n",
    "    i+=1\n",
    "    if i is 5:\n",
    "        break"
   ],
   "metadata": {
    "collapsed": false,
    "pycharm": {
     "name": "#%%\n"
    }
   }
  },
  {
   "cell_type": "code",
   "execution_count": 4,
   "metadata": {
    "collapsed": true,
    "pycharm": {
     "is_executing": false
    }
   },
   "outputs": [
    {
     "name": "stdout",
     "text": [
      "doc_text     USA: Novell Inc. unveils intranet product. Nov...\n",
      "doc_topic                                          [C22, CCAT]\n",
      "Name: 2504NEWS, dtype: object\n"
     ],
     "output_type": "stream"
    }
   ],
   "source": [
    "print(df.iloc[0])"
   ]
  }
 ],
 "metadata": {
  "kernelspec": {
   "display_name": "Python 3",
   "language": "python",
   "name": "python3"
  },
  "language_info": {
   "codemirror_mode": {
    "name": "ipython",
    "version": 2
   },
   "file_extension": ".py",
   "mimetype": "text/x-python",
   "name": "python",
   "nbconvert_exporter": "python",
   "pygments_lexer": "ipython2",
   "version": "2.7.6"
  },
  "pycharm": {
   "stem_cell": {
    "cell_type": "raw",
    "source": [],
    "metadata": {
     "collapsed": false
    }
   }
  }
 },
 "nbformat": 4,
 "nbformat_minor": 0
}